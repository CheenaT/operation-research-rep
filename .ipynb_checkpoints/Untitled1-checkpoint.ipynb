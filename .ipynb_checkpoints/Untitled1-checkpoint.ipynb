{
 "cells": [
  {
   "cell_type": "code",
   "execution_count": 1,
   "metadata": {},
   "outputs": [],
   "source": [
    "import numpy as np\n",
    "import scipy as sp\n",
    "from fractions import Fraction"
   ]
  },
  {
   "cell_type": "code",
   "execution_count": 2,
   "metadata": {},
   "outputs": [],
   "source": [
    "def printMatrix ( matrix ): \n",
    "   for i in range ( len(matrix) ):\n",
    "    if i > 0 and i < len(matrix):\n",
    "        print()\n",
    "    print(\"|\", end = '')\n",
    "    for j in range ( len(matrix[i]) ):\n",
    "        print (\"{:3d}\".format(matrix[i][j]), end = \" |\") \n",
    "    print ()\n",
    "\n",
    "def printMatrix2 ( matrix ): \n",
    "   for i in range ( len(matrix) ):\n",
    "    if i > 0 and i < len(matrix):\n",
    "        print()\n",
    "    print(\"|\", end = '')\n",
    "    for j in range ( len(matrix[i]) ):\n",
    "        print ((matrix[i][j]), end = \" |  \") \n",
    "    print ()"
   ]
  },
  {
   "cell_type": "code",
   "execution_count": 3,
   "metadata": {},
   "outputs": [],
   "source": [
    "\n",
    "def step1(matrix, n, m):\n",
    "    frame = np.full((n+2, m+3), Fraction(0))\n",
    "    for i in range(1, n+1):\n",
    "        for j in range(2, m+2):\n",
    "            frame[i][j] += Fraction(matrix[i-1][j-2]) \n",
    "    frame[1:n+1,1] = Fraction(1)\n",
    "    for i in range(1, n+1):\n",
    "        frame[i][0] = Fraction(m + i)\n",
    "    for j in range(2, m+2):\n",
    "        frame[0][j] = Fraction(j-1)\n",
    "    frame[n+1, 2:m+2] = Fraction(-1)\n",
    "    return frame"
   ]
  },
  {
   "cell_type": "code",
   "execution_count": 4,
   "metadata": {},
   "outputs": [],
   "source": [
    "def smplx_mthd(a,n,m):\n",
    "    lead_column = 2\n",
    "    for j in range(3, m+2):\n",
    "        if abs(a[n+1][j]) > abs(a[n+1][lead_column]):\n",
    "            lead_column = j\n",
    "        print( abs(a[n+1][j]), j)\n",
    "            \n",
    "    print(lead_column)\n",
    "    flag = False\n",
    "    for i in range(1, n+1):\n",
    "        if not(((a[i][1] > 0) and (a[i][lead_column] < 0)) or (a[i][lead_column] == 0)):\n",
    "            if flag == False:\n",
    "                lead_line = i\n",
    "                exp = (a[lead_line][1])/(a[lead_line][lead_column])\n",
    "                flag = True\n",
    "            else: \n",
    "                if (a[i][1])/a[i][lead_column] < exp:\n",
    "                    exp = (a[i][1])/a[i][lead_column]\n",
    "                    lead_line = i\n",
    "    lead_elem = a[lead_line][lead_column]\n",
    "    \n",
    "    var_chg_1 = a[0][lead_column]\n",
    "    var_chg_2 = a[lead_line][0]\n",
    "\n",
    "    new_smplx_mtrx = a.copy()\n",
    "    new_smplx_mtrx[0][lead_column] = var_chg_2\n",
    "    \n",
    "    if lead_line != 1:\n",
    "        change = True\n",
    "        for i in range(lead_line, 1, -1):\n",
    "            new_smplx_mtrx[i][0] = new_smplx_mtrx[i-1][0]\n",
    "    else:\n",
    "        change = False\n",
    "    new_smplx_mtrx[1][0] = var_chg_1\n",
    "    \n",
    "    # Заполняем первую строку новой таблицы\n",
    "    \n",
    "    for j in range(1, m+2):\n",
    "        if j != lead_column:\n",
    "            new_smplx_mtrx[1][j] = (a[lead_line][j])/(lead_elem)\n",
    "    new_smplx_mtrx[1][lead_column] = Fraction(1)/lead_elem\n",
    "    \n",
    "    # Заполняем столбец вспомогаетльных коэффициентов\n",
    "  \n",
    "    for i in range(1, n+2):\n",
    "        if i < lead_line:\n",
    "            new_smplx_mtrx[i+1][m+2] = -a[i][lead_column]\n",
    "        elif i > lead_line:\n",
    "            new_smplx_mtrx[i][m+2] = -a[i][lead_column]\n",
    "                \n",
    "    # Запоняем все оставшиеся строки\n",
    "    \n",
    "    for i in range(2, n + 2):\n",
    "        \n",
    "        for j in range(1, m + 2):\n",
    "            if i <= lead_line:\n",
    "                if a[lead_line][0] == new_smplx_mtrx[i][j]:\n",
    "                    value = 0\n",
    "                else:\n",
    "                    value = a[i-1][j]\n",
    "                new_smplx_mtrx[i][j] = new_smplx_mtrx[i][m+2]*new_smplx_mtrx[1][j] + value #a[i-1][j]\n",
    "            else:\n",
    "                if a[lead_line][0] == new_smplx_mtrx[0][j]:\n",
    "                    print(\"control\")\n",
    "                    value = 0\n",
    "                else:\n",
    "                    value = a[i][j]\n",
    "                new_smplx_mtrx[i][j] = new_smplx_mtrx[i][m+2]*new_smplx_mtrx[1][j] + value #a[i][j]\n",
    "            \n",
    "        \n",
    "    print()\n",
    "    print(\"-----------------------------------------\")\n",
    "    print()\n",
    "    printMatrix2(new_smplx_mtrx)\n",
    "    #answer = new_smplx_mtrx[n+1, 2:m+2]\n",
    "    #print(answer)\n",
    "    return new_smplx_mtrx"
   ]
  },
  {
   "cell_type": "code",
   "execution_count": 5,
   "metadata": {},
   "outputs": [],
   "source": [
    "def nash_equilibrium(a):\n",
    "    n = a.shape[0]       # число строк\n",
    "    m = a.shape[1]       # число столбцов\n",
    "    print(n,m)\n",
    "    b = np.array([1]*n).reshape(n,1)\n",
    "    c = np.hstack((a, b))     # расширенная матрица\n",
    "    #printMatrix(c)\n",
    "    smplx_mtrx = step1(c,n,m)   # первая симплексная таблица\n",
    "    printMatrix2(smplx_mtrx)\n",
    "    \n",
    "    answer = smplx_mtrx[n+1, 2:m+2]\n",
    "    answer.sort()\n",
    "    i = 0\n",
    "    while (answer[0] < 0):\n",
    "        new_smplx_mtrx = smplx_mthd(smplx_mtrx,n,m)\n",
    "        answer = new_smplx_mtrx[n+1, 2:m+2].copy()\n",
    "        answer.sort()\n",
    "        smplx_mtrx = new_smplx_mtrx\n",
    "        i+=1\n",
    "    for i in range(1, n+1):\n",
    "        print(smplx_mtrx[i, 1])\n",
    "    for j in range(2, m+2):\n",
    "        print(smplx_mtrx[n+1, j])\n",
    "    print(i)\n",
    "    return "
   ]
  },
  {
   "cell_type": "code",
   "execution_count": 41,
   "metadata": {},
   "outputs": [],
   "source": [
    "\n",
    "exp = np.array([\n",
    "    [4,2,2],\n",
    "    [2,5,0],\n",
    "    [0,2,5]#,\n",
    "    #[2, 2, 2]\n",
    "])"
   ]
  },
  {
   "cell_type": "code",
   "execution_count": 47,
   "metadata": {},
   "outputs": [],
   "source": [
    "def basic_matrix(matrix, n, m):\n",
    "    frame = np.full((n+2, m+n+2), Fraction(0))\n",
    "    for i in range(1, n+1):\n",
    "        for j in range(2, m+2):\n",
    "            frame[i][j] += Fraction(matrix[i-1][j-2]) \n",
    "    frame[1:n+1,1] = Fraction(1)\n",
    "    for i in range(1, n+1):\n",
    "        frame[i][0] = Fraction(m + i)\n",
    "    for j in range(2, m+n+2):\n",
    "        frame[0][j] = Fraction(j-1)\n",
    "    frame[n+1, 2:m+2] = Fraction(-1)\n",
    "    for k in range(0, n):\n",
    "        frame[k+1][m+2+k] = 1\n",
    "    #printMatrix2(frame)\n",
    "    return frame"
   ]
  },
  {
   "cell_type": "code",
   "execution_count": 48,
   "metadata": {},
   "outputs": [],
   "source": [
    "def nash_equilibrium(a):\n",
    "    n = a.shape[0]       # число строк\n",
    "    m = a.shape[1]       # число столбцов\n",
    "    smplx_mtrx = basic_matrix(a,n,m)   # первая симплексная таблица\n",
    "    printMatrix2(smplx_mtrx)\n",
    "    \n",
    "    \n",
    "    return "
   ]
  },
  {
   "cell_type": "code",
   "execution_count": 44,
   "metadata": {},
   "outputs": [],
   "source": [
    "example = np.array([\n",
    "    [4,0,6,2,2,1],\n",
    "    [3,8,4,10,4,4],\n",
    "    [1,2,6,5,0,0],\n",
    "    [6,6,4,4,10,3],\n",
    "    [10,4,6,4,0,9],\n",
    "    [10,7,0,7,9,8]\n",
    "])"
   ]
  },
  {
   "cell_type": "code",
   "execution_count": null,
   "metadata": {},
   "outputs": [],
   "source": []
  },
  {
   "cell_type": "code",
   "execution_count": null,
   "metadata": {},
   "outputs": [],
   "source": []
  },
  {
   "cell_type": "code",
   "execution_count": null,
   "metadata": {},
   "outputs": [],
   "source": []
  },
  {
   "cell_type": "code",
   "execution_count": null,
   "metadata": {},
   "outputs": [],
   "source": []
  },
  {
   "cell_type": "code",
   "execution_count": null,
   "metadata": {},
   "outputs": [],
   "source": []
  },
  {
   "cell_type": "code",
   "execution_count": null,
   "metadata": {},
   "outputs": [],
   "source": []
  },
  {
   "cell_type": "code",
   "execution_count": null,
   "metadata": {},
   "outputs": [],
   "source": []
  },
  {
   "cell_type": "code",
   "execution_count": null,
   "metadata": {},
   "outputs": [],
   "source": []
  },
  {
   "cell_type": "code",
   "execution_count": null,
   "metadata": {},
   "outputs": [],
   "source": []
  },
  {
   "cell_type": "code",
   "execution_count": null,
   "metadata": {},
   "outputs": [],
   "source": []
  },
  {
   "cell_type": "code",
   "execution_count": null,
   "metadata": {},
   "outputs": [],
   "source": []
  }
 ],
 "metadata": {
  "kernelspec": {
   "display_name": "Python 3",
   "language": "python",
   "name": "python3"
  },
  "language_info": {
   "codemirror_mode": {
    "name": "ipython",
    "version": 3
   },
   "file_extension": ".py",
   "mimetype": "text/x-python",
   "name": "python",
   "nbconvert_exporter": "python",
   "pygments_lexer": "ipython3",
   "version": "3.6.8"
  }
 },
 "nbformat": 4,
 "nbformat_minor": 2
}
