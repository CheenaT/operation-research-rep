{
 "cells": [
  {
   "cell_type": "code",
   "execution_count": 2,
   "metadata": {},
   "outputs": [],
   "source": [
    "import numpy as np\n",
    "import scipy as sp\n",
    "from fractions import Fraction\n",
    "%matplotlib inline\n",
    "import matplotlib.pyplot as plt   \n",
    "import matplotlib.ticker"
   ]
  },
  {
   "cell_type": "code",
   "execution_count": 3,
   "metadata": {},
   "outputs": [],
   "source": [
    "# Вывод вектора стратегии\n",
    "def printVector(matrix, symbol):\n",
    "    print(\"| \", symbol, \" ||  \", end='')\n",
    "    for j in range ( len(matrix[0]) ):\n",
    "        print (str(matrix[0][j]).center(10), end = \"  |  \") \n",
    "        #print(\"\".format(matrix[0][j]))\n",
    "    print ()"
   ]
  },
  {
   "cell_type": "code",
   "execution_count": 4,
   "metadata": {},
   "outputs": [],
   "source": [
    "# Формируем матрицу для симплекс метода\n",
    "def basic_matrix(matrix, n, m):\n",
    "    \n",
    "    frame = np.full((n+2, m+n+2), Fraction(0))\n",
    "    \n",
    "    # Добавляем в базовую матрицу платежную матрицу \n",
    "    for i in range(1, n+1):\n",
    "        for j in range(2, m+2):\n",
    "            frame[i,j] += Fraction(matrix[i-1,j-2]) \n",
    "\n",
    "    # Добавляем свободные коэффициенты\n",
    "    frame[1:n+1,1] = Fraction(1)\n",
    "    \n",
    "    # Добавляем номера переменных базиса\n",
    "    for i in range(1, n+1):\n",
    "        frame[i,0] = Fraction(m + i)\n",
    "        \n",
    "    # Добавляем номера всех переменных (в том числе дополнительные)\n",
    "    for j in range(2, m+n+2):\n",
    "        frame[0,j] = Fraction(j-1)\n",
    "        \n",
    "    # Добавляем коэффициенты для целевой функции\n",
    "    frame[n+1, 2:m+2] = Fraction(-1)\n",
    "    for k in range(0, n):\n",
    "        frame[k+1,m+2+k] = 1\n",
    "        \n",
    "    return frame"
   ]
  },
  {
   "cell_type": "code",
   "execution_count": 5,
   "metadata": {},
   "outputs": [],
   "source": [
    "# Поиск лидирующего столбца , строки и элемента\n",
    "def leaders(a, n, m):\n",
    "    \n",
    "    flag = False    # Флаг = тру, когда появился первый элекмент, удовлетворяющий условиям\n",
    "    \n",
    "    # Поиск ведущего столбца\n",
    "    for j in range(2, m+n+2):\n",
    "        if a[n+1, j] < 0:\n",
    "            if flag == False:\n",
    "                lead_column = j\n",
    "                flag = True\n",
    "            else:\n",
    "                if abs(a[n+1, j]) >= abs(a[n+1, lead_column]):\n",
    "                    lead_column = j\n",
    "    \n",
    "    flag = False     # Флаг = тру, когда появился первый элекмент, удовлетворяющий условиям\n",
    "    \n",
    "    # Поиск ведущей строки \n",
    "    for i in range(1, n+1):\n",
    "        if not(((a[i, 1] > 0) and (a[i, lead_column] < 0)) or (a[i, lead_column] == 0) or (a[i, 1] == 0)):\n",
    "            if flag == False:\n",
    "                lead_line = i\n",
    "                exp = (a[lead_line, 1])/(a[lead_line, lead_column])\n",
    "                flag = True\n",
    "            else: \n",
    "                if (a[i, 1])/a[i, lead_column] < exp:\n",
    "                    exp = (a[i, 1])/a[i, lead_column]\n",
    "                    lead_line = i\n",
    "    \n",
    "    # Ведущий элемент\n",
    "    lead_elem = a[lead_line, lead_column]\n",
    "    \n",
    "    return lead_column, lead_line, lead_elem"
   ]
  },
  {
   "cell_type": "code",
   "execution_count": 6,
   "metadata": {},
   "outputs": [],
   "source": [
    "# Процесс перехода к новой матрице по идее симплекс метода\n",
    "def smplx_mthd(a,n,m):\n",
    "\n",
    "    # Лидирующий строка, столбец и элемент\n",
    "    lead_column, lead_line, lead_elem = leaders(a, n, m)\n",
    "    \n",
    "    # Получаем номер переменной. которую необходимо добавить в базис\n",
    "    var_chg = a[0, lead_column]\n",
    "\n",
    "    new_smplx_mtrx = a.copy()\n",
    "    new_smplx_mtrx[lead_line, 0] = var_chg    # Добавляем найденную переменную в базис\n",
    "    \n",
    "    # Заполняем лидирующую строку новой таблицы\n",
    "    for j in range(1, m+n+2):\n",
    "        new_smplx_mtrx[lead_line, j] = (a[lead_line, j])/(lead_elem)\n",
    "        \n",
    "    # Заполняем все остальные строки\n",
    "    for i in range(1, n+2):\n",
    "        for j in range(1, m+n+2):\n",
    "            if i != lead_line:\n",
    "                new_smplx_mtrx[i, j] = a[i, j] - ((a[i, lead_column]) * (a[lead_line, j]))/lead_elem\n",
    "\n",
    "    return new_smplx_mtrx"
   ]
  },
  {
   "cell_type": "code",
   "execution_count": 7,
   "metadata": {},
   "outputs": [],
   "source": [
    "# Проверка матрицы на наличие седловой точки\n",
    "def check_matrix(mx):\n",
    "    \n",
    "    # Переменные для номера строки(слобца) для оптимальной стратегии 1(2)\n",
    "    # игрока в случе седловой точки\n",
    "    optimal_strategy_1 = 0\n",
    "    optimal_strategy_2 = 0\n",
    "    \n",
    "    # дробное представление элементов матрицы(для удобства работы)\n",
    "    for i in range (len(mx)):\n",
    "        for j in range (len(mx[0])):\n",
    "            mx[i][j] = Fraction(mx[i][j])\n",
    "        \n",
    "    flag = False    # Флаг = тру, когда появился первый элекмент, удовлетворяющий условиям\n",
    "    k = 0    #  номер сироки  \n",
    "    \n",
    "    # Поиск maxmin'а\n",
    "    for i in list(mx):\n",
    "        if flag == False:\n",
    "            max_for_maxmin = i.min()\n",
    "            flag = True\n",
    "        else:\n",
    "            if i.min() > max_for_maxmin:\n",
    "                max_for_maxmin = i.min()\n",
    "                optimal_strategy_1 = k\n",
    "        k += 1\n",
    "        \n",
    "    flag = False    # Флаг = тру, когда появился первый элекмент, удовлетворяющий условиям\n",
    "    k = 0    #  номер сироки  \n",
    "    \n",
    "    # Поиск minmax'а\n",
    "    for j in list(mx.T):\n",
    "        if flag == False:\n",
    "            min_for_minmax = j.max()\n",
    "            flag = True\n",
    "        else:\n",
    "            if j.max() < min_for_minmax:\n",
    "                min_for_minmax = j.max()\n",
    "                optimal_strategy_2 = k\n",
    "        k +=1\n",
    "                \n",
    "    # Если answer = True, то имеется седловая точка\n",
    "    if max_for_maxmin == min_for_minmax:\n",
    "        answer = True\n",
    "    else:\n",
    "        answer = False\n",
    "        \n",
    "    return answer, max_for_maxmin, optimal_strategy_1, optimal_strategy_2"
   ]
  },
  {
   "cell_type": "code",
   "execution_count": 8,
   "metadata": {},
   "outputs": [],
   "source": [
    "def nash_equilibrium(a):\n",
    "\n",
    "    n = a.shape[0]       # число строк\n",
    "    m = a.shape[1]       # число столбцов\n",
    "    \n",
    "    # Проверка на наличие седловой точки\n",
    "    saddle_point, v, opt_strateg_1, opt_strateg_2 = check_matrix(a)\n",
    "    \n",
    "    if saddle_point == True:\n",
    "        # Векторы оптимальных стратегий (первого и второго игрока соответственно)\n",
    "        first_answer = np.full((1, m), Fraction(0))\n",
    "        second_answer = np.full((1, n), Fraction(0))\n",
    "        for i in range(0,m):\n",
    "            first_answer[0, i] = a[opt_strateg_1, i]\n",
    "        for i in range(0,n):\n",
    "            second_answer[0, i] = a[i, opt_strateg_2]\n",
    "            \n",
    "    # Если седловой точки нет - используем симплекс метод\n",
    "    else:\n",
    "        # Векторы оптимальных стратегий (первого и второго игрока соответственно)\n",
    "        first_answer = np.full((1, n), Fraction(0))\n",
    "        second_answer = np.full((1, m), Fraction(0))\n",
    "        \n",
    "        smplx_mtrx = basic_matrix(a,n,m)   # первая симплексная таблица\n",
    "        \n",
    "        # Вектор последней строки таблицы с переменными, для проверки условия оптимальности\n",
    "        answer = smplx_mtrx[n+1, 2:m+n+2].copy() \n",
    "        answer.sort()\n",
    "\n",
    "        # Цикл симплекс метода\n",
    "        while (answer[0] < 0):\n",
    "            new_smplx_mtrx = smplx_mthd(smplx_mtrx,n,m)  # Получаем следующую матрицу\n",
    "\n",
    "            # Вектор последней строки таблицы с переменными, для проверки условия оптимальности\n",
    "            answer = new_smplx_mtrx[n+1, 2:m+n+2].copy()\n",
    "            answer.sort()\n",
    "            smplx_mtrx = new_smplx_mtrx\n",
    "            \n",
    "        # Функции\n",
    "        f1, f2 = 0, 0\n",
    "\n",
    "        # заполняем векторы оптимальных стратегий \n",
    "        for i in range(1, n+1):\n",
    "            var_num = int(smplx_mtrx[i,0])\n",
    "            if var_num <= m :\n",
    "                f2 += smplx_mtrx[i, 1]\n",
    "                second_answer[0, (var_num - 1)] = smplx_mtrx[i, 1]\n",
    "            first_answer[0,(i-1)] =  smplx_mtrx[n+1,i + m +1]\n",
    "            f1 += smplx_mtrx[n+1,i+m+1]\n",
    "\n",
    "        # Значение игры\n",
    "        v = Fraction(1)/f1\n",
    "        \n",
    "        first_answer = first_answer*v\n",
    "        second_answer = second_answer*v\n",
    "    \n",
    "    return v, first_answer, second_answer"
   ]
  },
  {
   "cell_type": "code",
   "execution_count": 9,
   "metadata": {},
   "outputs": [],
   "source": [
    "def visualization_of_spectra(a):\n",
    "    \n",
    "    i = 0\n",
    "    \n",
    "    y = a[0, :]\n",
    "    x = np.arange(1, np.size(a)+1)\n",
    "    \n",
    "    fig, ax = plt.subplots()\n",
    "    ax.set_title('Визуализация спектров')\n",
    "    \n",
    "    y_major = 0.1\n",
    "    y_minor = 0.02\n",
    "    \n",
    "    # Случай седловой точки\n",
    "    if a.max() > 1:\n",
    "        y_major = 1\n",
    "        y_minor = 1\n",
    "        \n",
    "    ax.xaxis.set_major_locator(matplotlib.ticker.MultipleLocator(1))\n",
    "    ax.yaxis.set_major_locator(matplotlib.ticker.MultipleLocator(y_major))\n",
    "    ax.xaxis.set_minor_locator(matplotlib.ticker.MultipleLocator(1))\n",
    "    ax.yaxis.set_minor_locator(matplotlib.ticker.MultipleLocator(y_minor))\n",
    "      \n",
    "    ax.bar(x, y, width = 0.02, color=(0.2, 0.4, 0.6, 0.6))\n",
    "    ax.plot(x, y, marker = 'o', linestyle = '')"
   ]
  },
  {
   "cell_type": "code",
   "execution_count": 10,
   "metadata": {},
   "outputs": [],
   "source": [
    "example = np.array([\n",
    "    [4,0,6,2,2,1],\n",
    "    [3,8,4,10,4,4],\n",
    "    [1,2,6,5,0,0],\n",
    "    [6,6,4,4,10,3],\n",
    "    [10,4,6,4,0,9],\n",
    "    [10,7,0,7,9,8]\n",
    "])"
   ]
  },
  {
   "cell_type": "code",
   "execution_count": 12,
   "metadata": {},
   "outputs": [
    {
     "name": "stdout",
     "output_type": "stream",
     "text": [
      "Значение игры = 0\n",
      "|  p  ||      0       |      0       |      6       |      0       |  \n",
      "|  q  ||      0       |      0       |      0       |      0       |  \n"
     ]
    },
    {
     "data": {
      "image/png": "[encoded data removed]",
      "text/plain": [
       "<matplotlib.figure.Figure at 0x7f9539089048>"
      ]
     },
     "metadata": {
      "needs_background": "light"
     },
     "output_type": "display_data"
    },
    {
     "data": {
      "image/png": "[encoded data removed]",
      "text/plain": [
       "<matplotlib.figure.Figure at 0x7f95395d9cf8>"
      ]
     },
     "metadata": {
      "needs_background": "light"
     },
     "output_type": "display_data"
    }
   ],
   "source": [
    "v,s1,s2 = nash_equilibrium(doesntwork)\n",
    "print(\"Значение игры =\", v)\n",
    "printVector(s1, 'p')\n",
    "printVector(s2, 'q')\n",
    "visualization_of_spectra(s1)\n",
    "visualization_of_spectra(s2)"
   ]
  },
  {
   "cell_type": "code",
   "execution_count": 400,
   "metadata": {},
   "outputs": [],
   "source": [
    "vv = np.array([\n",
    "    [0,0],\n",
    "    [0,4]\n",
    "])"
   ]
  },
  {
   "cell_type": "code",
   "execution_count": 405,
   "metadata": {},
   "outputs": [],
   "source": [
    "m = np.array([[1  ,-2  ,7    ,22  ,1],\\\n",
    "                           [2  ,3   ,4    ,4   ,-11],\\\n",
    "                           [2  ,33  ,-44  ,1   ,-1],\\\n",
    "                           [5  ,4   ,-3   ,2   ,-123]])"
   ]
  },
  {
   "cell_type": "code",
   "execution_count": 13,
   "metadata": {},
   "outputs": [],
   "source": [
    "doesntwork = np.array([[0, 0, 6, 0],\n",
    "                        [0, 0, 5, 0],\n",
    "                        [0, -1, 3, 2],\n",
    "                        [0, 0, 4, 0]\n",
    "])"
   ]
  },
  {
   "cell_type": "code",
   "execution_count": null,
   "metadata": {},
   "outputs": [],
   "source": []
  },
  {
   "cell_type": "code",
   "execution_count": null,
   "metadata": {},
   "outputs": [],
   "source": []
  },
  {
   "cell_type": "code",
   "execution_count": null,
   "metadata": {},
   "outputs": [],
   "source": []
  },
  {
   "cell_type": "code",
   "execution_count": null,
   "metadata": {},
   "outputs": [],
   "source": []
  },
  {
   "cell_type": "code",
   "execution_count": null,
   "metadata": {},
   "outputs": [],
   "source": []
  },
  {
   "cell_type": "code",
   "execution_count": null,
   "metadata": {},
   "outputs": [],
   "source": []
  },
  {
   "cell_type": "code",
   "execution_count": null,
   "metadata": {},
   "outputs": [],
   "source": []
  },
  {
   "cell_type": "code",
   "execution_count": null,
   "metadata": {},
   "outputs": [],
   "source": []
  },
  {
   "cell_type": "code",
   "execution_count": null,
   "metadata": {},
   "outputs": [],
   "source": []
  },
  {
   "cell_type": "code",
   "execution_count": null,
   "metadata": {},
   "outputs": [],
   "source": []
  }
 ],
 "metadata": {
  "kernelspec": {
   "display_name": "Python 3",
   "language": "python",
   "name": "python3"
  },
  "language_info": {
   "codemirror_mode": {
    "name": "ipython",
    "version": 3
   },
   "file_extension": ".py",
   "mimetype": "text/x-python",
   "name": "python",
   "nbconvert_exporter": "python",
   "pygments_lexer": "ipython3",
   "version": "3.6.8"
  }
 },
 "nbformat": 4,
 "nbformat_minor": 2
}
